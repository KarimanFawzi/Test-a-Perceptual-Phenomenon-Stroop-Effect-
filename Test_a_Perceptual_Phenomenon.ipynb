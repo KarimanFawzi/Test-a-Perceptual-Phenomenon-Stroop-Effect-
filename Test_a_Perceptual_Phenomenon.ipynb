{
 "cells": [
  {
   "cell_type": "markdown",
   "metadata": {},
   "source": [
    "### Analyzing the Stroop Effect\n",
    "Perform the analysis in the space below. Remember to follow [the instructions](https://docs.google.com/document/d/1-OkpZLjG_kX9J6LIQ5IltsqMzVWjh36QpnP2RYpVdPU/pub?embedded=True) and review the [project rubric](https://review.udacity.com/#!/rubrics/71/view) before submitting. Once you've completed the analysis and write-up, download this file as a PDF or HTML file, upload that PDF/HTML into the workspace here (click on the orange Jupyter icon in the upper left then Upload), then use the Submit Project button at the bottom of this page. This will create a zip file containing both this .ipynb doc and the PDF/HTML doc that will be submitted for your project.\n",
    "\n",
    "\n",
    "(1) What is the independent variable? What is the dependent variable?"
   ]
  },
  {
   "cell_type": "markdown",
   "metadata": {},
   "source": [
    "#### The independent variable is: the word type or condition (congruent or incongruent)\n",
    "\n",
    "#### The dependent variable is: the response time\n"
   ]
  },
  {
   "cell_type": "markdown",
   "metadata": {},
   "source": [
    "(2) What is an appropriate set of hypotheses for this task? Specify your null and alternative hypotheses, and clearly define any notation used. Justify your choices."
   ]
  },
  {
   "cell_type": "markdown",
   "metadata": {},
   "source": [
    "### The test hypothesis: \n",
    "\n",
    "#### 1- The null hypothesis: \n",
    "the word type has no effect on the response time, that the mean response time for congruent words is the same as the mean response time for incongrurnt words.\n",
    "\n",
    "#### 2- The alternative hypothesis: \n",
    "the word type has an effect on the response time, hat the mean response time for incongruent words is not the same as the mean response time for incongrurnt words.\n",
    "\n",
    "#### In mathematical notation:\n",
    "                \n",
    "                H0: cong_mean = incong_mean\n",
    "                H1: cong_mean ≠ incong_mean\n",
    "             OR\n",
    "                H0: μ_c = μ_inc \n",
    "                H1: μ_c ≠ μ_inc\n",
    "                \n",
    "                Where: \n",
    "                      μ_c: is the mean response time for congurent words\n",
    "                       \n",
    "                      μ_inc: is the mean response time for incongurent words\n",
    "\n",
    "### Then what test should we carry in our case?!\n",
    "\n",
    "Here, we have:\n",
    "\n",
    "1- Sample size is below 30 (24 entries)\n",
    "\n",
    "2- The same participant is measured at two time points.\n",
    "\n",
    "3- We don't know the population standard deviation.\n",
    "\n",
    "Therefore, we will conduct a 'Dependent t-test for Paired Samples', (or what we call a 'two-tailed paired t-test'), because we want to see if there are any changes in the reading time if the data is displayed congruent or incongruent as we want to measure two different treatments on a persons reaction to see if there is a difference in the reaction time.\n"
   ]
  },
  {
   "cell_type": "markdown",
   "metadata": {},
   "source": [
    "(3) Report some descriptive statistics regarding this dataset. Include at least one measure of central tendency and at least one measure of variability. The name of the data file is 'stroopdata.csv'."
   ]
  },
  {
   "cell_type": "code",
   "execution_count": null,
   "metadata": {
    "collapsed": true
   },
   "outputs": [],
   "source": [
    "# Perform the analysis here"
   ]
  },
  {
   "cell_type": "code",
   "execution_count": 7,
   "metadata": {},
   "outputs": [
    {
     "name": "stderr",
     "output_type": "stream",
     "text": [
      "UsageError: Line magic function `%latex` not found (But cell magic `%%latex` exists, did you mean that instead?).\n"
     ]
    }
   ],
   "source": [
    "#Importing the required libraries and read our dataset\n",
    "import pandas as pd\n",
    "import math\n",
    "import matplotlib.pyplot as plt\n",
    "import plotly.plotly as py\n",
    "import seaborn as sns\n",
    "import scipy.stats as stats\n",
    "from scipy.stats import t\n",
    "%matplotlib inline"
   ]
  },
  {
   "cell_type": "code",
   "execution_count": 2,
   "metadata": {},
   "outputs": [
    {
     "data": {
      "text/html": [
       "<div>\n",
       "<style scoped>\n",
       "    .dataframe tbody tr th:only-of-type {\n",
       "        vertical-align: middle;\n",
       "    }\n",
       "\n",
       "    .dataframe tbody tr th {\n",
       "        vertical-align: top;\n",
       "    }\n",
       "\n",
       "    .dataframe thead th {\n",
       "        text-align: right;\n",
       "    }\n",
       "</style>\n",
       "<table border=\"1\" class=\"dataframe\">\n",
       "  <thead>\n",
       "    <tr style=\"text-align: right;\">\n",
       "      <th></th>\n",
       "      <th>Congruent</th>\n",
       "      <th>Incongruent</th>\n",
       "    </tr>\n",
       "  </thead>\n",
       "  <tbody>\n",
       "    <tr>\n",
       "      <th>0</th>\n",
       "      <td>12.079</td>\n",
       "      <td>19.278</td>\n",
       "    </tr>\n",
       "    <tr>\n",
       "      <th>1</th>\n",
       "      <td>16.791</td>\n",
       "      <td>18.741</td>\n",
       "    </tr>\n",
       "    <tr>\n",
       "      <th>2</th>\n",
       "      <td>9.564</td>\n",
       "      <td>21.214</td>\n",
       "    </tr>\n",
       "    <tr>\n",
       "      <th>3</th>\n",
       "      <td>8.630</td>\n",
       "      <td>15.687</td>\n",
       "    </tr>\n",
       "    <tr>\n",
       "      <th>4</th>\n",
       "      <td>14.669</td>\n",
       "      <td>22.803</td>\n",
       "    </tr>\n",
       "  </tbody>\n",
       "</table>\n",
       "</div>"
      ],
      "text/plain": [
       "   Congruent  Incongruent\n",
       "0     12.079       19.278\n",
       "1     16.791       18.741\n",
       "2      9.564       21.214\n",
       "3      8.630       15.687\n",
       "4     14.669       22.803"
      ]
     },
     "execution_count": 2,
     "metadata": {},
     "output_type": "execute_result"
    }
   ],
   "source": [
    "#Read our dataset\n",
    "df = pd.read_csv('stroopdata.csv')\n",
    "\n",
    "df.head()"
   ]
  },
  {
   "cell_type": "code",
   "execution_count": 3,
   "metadata": {},
   "outputs": [
    {
     "data": {
      "text/html": [
       "<div>\n",
       "<style scoped>\n",
       "    .dataframe tbody tr th:only-of-type {\n",
       "        vertical-align: middle;\n",
       "    }\n",
       "\n",
       "    .dataframe tbody tr th {\n",
       "        vertical-align: top;\n",
       "    }\n",
       "\n",
       "    .dataframe thead th {\n",
       "        text-align: right;\n",
       "    }\n",
       "</style>\n",
       "<table border=\"1\" class=\"dataframe\">\n",
       "  <thead>\n",
       "    <tr style=\"text-align: right;\">\n",
       "      <th></th>\n",
       "      <th>Congruent</th>\n",
       "      <th>Incongruent</th>\n",
       "    </tr>\n",
       "  </thead>\n",
       "  <tbody>\n",
       "    <tr>\n",
       "      <th>count</th>\n",
       "      <td>24.000000</td>\n",
       "      <td>24.000000</td>\n",
       "    </tr>\n",
       "    <tr>\n",
       "      <th>mean</th>\n",
       "      <td>14.051125</td>\n",
       "      <td>22.015917</td>\n",
       "    </tr>\n",
       "    <tr>\n",
       "      <th>std</th>\n",
       "      <td>3.559358</td>\n",
       "      <td>4.797057</td>\n",
       "    </tr>\n",
       "    <tr>\n",
       "      <th>min</th>\n",
       "      <td>8.630000</td>\n",
       "      <td>15.687000</td>\n",
       "    </tr>\n",
       "    <tr>\n",
       "      <th>25%</th>\n",
       "      <td>11.895250</td>\n",
       "      <td>18.716750</td>\n",
       "    </tr>\n",
       "    <tr>\n",
       "      <th>50%</th>\n",
       "      <td>14.356500</td>\n",
       "      <td>21.017500</td>\n",
       "    </tr>\n",
       "    <tr>\n",
       "      <th>75%</th>\n",
       "      <td>16.200750</td>\n",
       "      <td>24.051500</td>\n",
       "    </tr>\n",
       "    <tr>\n",
       "      <th>max</th>\n",
       "      <td>22.328000</td>\n",
       "      <td>35.255000</td>\n",
       "    </tr>\n",
       "  </tbody>\n",
       "</table>\n",
       "</div>"
      ],
      "text/plain": [
       "       Congruent  Incongruent\n",
       "count  24.000000    24.000000\n",
       "mean   14.051125    22.015917\n",
       "std     3.559358     4.797057\n",
       "min     8.630000    15.687000\n",
       "25%    11.895250    18.716750\n",
       "50%    14.356500    21.017500\n",
       "75%    16.200750    24.051500\n",
       "max    22.328000    35.255000"
      ]
     },
     "execution_count": 3,
     "metadata": {},
     "output_type": "execute_result"
    }
   ],
   "source": [
    "#running statistic summary for our data\n",
    "df.describe()"
   ]
  },
  {
   "cell_type": "markdown",
   "metadata": {},
   "source": [
    "### The mean and standard deviation for both congrunet and incongruent data are:\n",
    "\n",
    "#### 1- Congruent:\n",
    "\n",
    "   Mean: 14.051125 sec\n",
    "   \n",
    "   Satndard deviation: 3.559358 sec\n",
    "   \n",
    "#### 2- Incongruent:\n",
    "\n",
    "   Mean: 22.015917 sec\n",
    "   \n",
    "   Satndard deviation: 4.797057 sec\n",
    "  \n",
    "   \n",
    "#### Notes: we note that both mean and standard deviation for incongurent data are greater than those for congruent data, especially the mean has a significant difference."
   ]
  },
  {
   "cell_type": "markdown",
   "metadata": {},
   "source": [
    "(4) Provide one or two visualizations that show the distribution of the sample data. Write one or two sentences noting what you observe about the plot or plots."
   ]
  },
  {
   "cell_type": "code",
   "execution_count": 39,
   "metadata": {},
   "outputs": [],
   "source": [
    "# Build the visualizations here"
   ]
  },
  {
   "cell_type": "code",
   "execution_count": 38,
   "metadata": {},
   "outputs": [
    {
     "data": {
      "image/png": "[encoded data removed]",
      "text/plain": [
       "<matplotlib.figure.Figure at 0x7f88fe5018d0>"
      ]
     },
     "metadata": {
      "needs_background": "light"
     },
     "output_type": "display_data"
    }
   ],
   "source": [
    "sns.boxplot(data = df[['Congruent', 'Incongruent']], width = 0.5);\n",
    "plt.ylabel(\"Time\");"
   ]
  },
  {
   "cell_type": "markdown",
   "metadata": {},
   "source": [
    "\n",
    "\n",
    "#### Notes: we can see that the time statics parameters is higher fo incongurent than congurent and that is logical ... The mind takes more time to process incongurent data."
   ]
  },
  {
   "cell_type": "code",
   "execution_count": 20,
   "metadata": {},
   "outputs": [
    {
     "data": {
      "image/png": "[encoded data removed]",
      "text/plain": [
       "<matplotlib.figure.Figure at 0x7f88ff2a4278>"
      ]
     },
     "metadata": {
      "needs_background": "light"
     },
     "output_type": "display_data"
    }
   ],
   "source": [
    "#Plot a Graph for congruent dataset\n",
    "sns.distplot(df['Congruent'])\n",
    "plt.xlabel(\"Time\");\n",
    "plt.ylabel(\"Frequency\");\n",
    "plt.title(\"Response Time for Congruent Words\");"
   ]
  },
  {
   "cell_type": "code",
   "execution_count": 23,
   "metadata": {},
   "outputs": [
    {
     "data": {
      "image/png": "[encoded data removed]",
      "text/plain": [
       "<matplotlib.figure.Figure at 0x7f88ff1682b0>"
      ]
     },
     "metadata": {
      "needs_background": "light"
     },
     "output_type": "display_data"
    }
   ],
   "source": [
    "#Plot a Graph for incongruent dataset\n",
    "sns.distplot(df['Incongruent'])\n",
    "plt.xlabel(\"Time\");\n",
    "plt.ylabel(\"Frequency\");\n",
    "plt.title(\"Response Time for Incongruent Words\");"
   ]
  },
  {
   "cell_type": "code",
   "execution_count": 29,
   "metadata": {},
   "outputs": [
    {
     "data": {
      "image/png": "[encoded data removed]",
      "text/plain": [
       "<matplotlib.figure.Figure at 0x7f88fee0b710>"
      ]
     },
     "metadata": {
      "needs_background": "light"
     },
     "output_type": "display_data"
    }
   ],
   "source": [
    "#Compare Both the datasets and make a graph\n",
    "sns.distplot(df['Congruent'],label = \"Congruent\")\n",
    "sns.distplot(df['Incongruent'],label = \"Incongruent\")\n",
    "plt.xlabel(\"Time\");\n",
    "plt.ylabel(\"Frequency\");\n",
    "plt.title(\"Response Time For Congruent Vs Incongruent Words\");\n",
    "plt.legend();"
   ]
  },
  {
   "cell_type": "markdown",
   "metadata": {},
   "source": [
    "#### Notes: Both the distribution are looks like the normal distribution and we can see that the mean is different for both the distributions.\n"
   ]
  },
  {
   "cell_type": "markdown",
   "metadata": {},
   "source": [
    "(5)  Now, perform the statistical test and report your results. What is your confidence level or Type I error associated with your test? What is your conclusion regarding the hypotheses you set up? Did the results match up with your expectations? **Hint:**  Think about what is being measured on each individual, and what statistic best captures how an individual reacts in each environment."
   ]
  },
  {
   "cell_type": "code",
   "execution_count": 23,
   "metadata": {},
   "outputs": [
    {
     "data": {
      "text/plain": [
       "2.0686576104190406"
      ]
     },
     "execution_count": 23,
     "metadata": {},
     "output_type": "execute_result"
    }
   ],
   "source": [
    "#find t-critical value for 95% confidance interval and 23 degree of freedom for two tailed test\n",
    "\n",
    "T_critical = t.ppf(0.975,23)\n",
    "T_critical"
   ]
  },
  {
   "cell_type": "code",
   "execution_count": 4,
   "metadata": {},
   "outputs": [
    {
     "data": {
      "text/plain": [
       "Ttest_relResult(statistic=-8.020706944109957, pvalue=4.1030005857111781e-08)"
      ]
     },
     "execution_count": 4,
     "metadata": {},
     "output_type": "execute_result"
    }
   ],
   "source": [
    "#performint a t_ test\n",
    "stats.ttest_rel(df['Congruent'], df['Incongruent'])"
   ]
  },
  {
   "cell_type": "code",
   "execution_count": 7,
   "metadata": {},
   "outputs": [
    {
     "data": {
      "image/png": "[encoded data removed]",
      "text/plain": [
       "<matplotlib.figure.Figure at 0x7f781e5db860>"
      ]
     },
     "metadata": {
      "needs_background": "light"
     },
     "output_type": "display_data"
    }
   ],
   "source": [
    "#now exploring the difference data\n",
    "df['response_time_diff'] = df['Congruent'] - df['Incongruent']\n",
    "\n",
    "df['response_time_diff'].plot(kind = 'hist', title = 'Response Time Difference betwwen Congruent and Incongruent');\n"
   ]
  },
  {
   "cell_type": "code",
   "execution_count": 10,
   "metadata": {},
   "outputs": [
    {
     "data": {
      "text/plain": [
       "-7.9647916666666667"
      ]
     },
     "execution_count": 10,
     "metadata": {},
     "output_type": "execute_result"
    }
   ],
   "source": [
    "diff_mean = df['Congruent'].mean() - df['Incongruent'].mean()\n",
    "diff_mean"
   ]
  },
  {
   "cell_type": "code",
   "execution_count": 9,
   "metadata": {},
   "outputs": [
    {
     "data": {
      "text/plain": [
       "4.8648269103590556"
      ]
     },
     "execution_count": 9,
     "metadata": {},
     "output_type": "execute_result"
    }
   ],
   "source": [
    "diff_std = df['response_time_diff'].std()\n",
    "diff_std"
   ]
  },
  {
   "cell_type": "code",
   "execution_count": 14,
   "metadata": {},
   "outputs": [
    {
     "data": {
      "text/plain": [
       "-8.020706944109957"
      ]
     },
     "execution_count": 14,
     "metadata": {},
     "output_type": "execute_result"
    }
   ],
   "source": [
    "# Calculate the T-value\n",
    "T_value = diff_mean / (diff_std/ math.sqrt(24))\n",
    "T_value"
   ]
  },
  {
   "cell_type": "markdown",
   "metadata": {},
   "source": [
    "### For two tailed t-test at 95% confidence level:\n",
    "\n",
    "Sample size(n) = 24\n",
    "\n",
    "Degree Of Freedom(df) = 23\n",
    "\n",
    "T-critical (tcritical) = ∓2.069\n",
    "\n",
    "Standerd Deviation(SD) = 4.8648\n",
    "\n",
    "Mean of difference data (x̄) = -7.9648\n",
    "\n",
    "### Notes: \n",
    "\n",
    "1- The null hypothesis will be rejected. \n",
    "There is a significant difference between mean time used in both conditions (congruent & incongruent) for each participant at 0.05 significance level as our p-value is to low as it approached (0) approximately.\n",
    "\n",
    "2-The results did match up with my expectations. My personal experiences were that I took longer and made more mistakes when I trained on the incongruent data set. I think the incongruent data set is harder to interpret because the brain uses separate modules for processing color and for processing writing.\n"
   ]
  },
  {
   "cell_type": "markdown",
   "metadata": {},
   "source": [
    "(6) Optional: What do you think is responsible for the effects observed? Can you think of an alternative or similar task that would result in a similar effect? Some research about the problem will be helpful for thinking about these two questions!"
   ]
  },
  {
   "cell_type": "markdown",
   "metadata": {},
   "source": [
    "### There are many theories developed can account for this occurrence:\n",
    "\n",
    "Two theories developed by J. Ridley Stroop can account for this occurrence:\n",
    "\n",
    "1. Speed of Processing Theory: He showed that the Interference occurs because, people are able to read words much quicker and to name the colour of the word is much more complex.\n",
    "\n",
    "2. Selective Attention Theory: Interference occurs because; naming the actual colour of the words requires much more attention than reading the words.\n",
    "\n",
    "Note: there are two more theories (Automaticity, Parallel distributed processing), but I find that they are both self_explained through J.Ridley Stroop theories.\n"
   ]
  },
  {
   "cell_type": "markdown",
   "metadata": {},
   "source": [
    "## References:\n",
    "\n",
    "1- Stroop Effect/wikipedia: https://en.wikipedia.org/wiki/Stroop_effect\n",
    "\n",
    "2- How to Calculate Critical Values for Statistical Hypothesis Testing with Python:\n",
    "   https://machinelearningmastery.com/critical-values-for-statistical-hypothesis-testing/\n",
    "   \n",
    "3- J. Ridley Stroop/ wikipedia:\n",
    "  https://en.wikipedia.org/wiki/John_Ridley_Stroop#Academic_career\n",
    "  \n",
    "4- How to understand degrees of freedom?\n",
    "  https://stats.stackexchange.com/questions/16921/how-to-understand-degrees-of-freedom\n",
    "  \n",
    "5- GitHup Site "
   ]
  },
  {
   "cell_type": "code",
   "execution_count": null,
   "metadata": {},
   "outputs": [],
   "source": []
  }
 ],
 "metadata": {
  "kernelspec": {
   "display_name": "Python 3",
   "language": "python",
   "name": "python3"
  },
  "language_info": {
   "codemirror_mode": {
    "name": "ipython",
    "version": 3
   },
   "file_extension": ".py",
   "mimetype": "text/x-python",
   "name": "python",
   "nbconvert_exporter": "python",
   "pygments_lexer": "ipython3",
   "version": "3.6.3"
  }
 },
 "nbformat": 4,
 "nbformat_minor": 2
}
